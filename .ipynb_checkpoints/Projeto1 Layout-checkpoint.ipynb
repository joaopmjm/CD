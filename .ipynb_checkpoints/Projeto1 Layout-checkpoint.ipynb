{
 "cells": [
  {
   "cell_type": "markdown",
   "metadata": {},
   "source": [
    "___\n",
    "# Ciência dos Dados - PROJETO 1"
   ]
  },
  {
   "cell_type": "markdown",
   "metadata": {},
   "source": [
    "## COLOQUE AQUI SEU NOME\n",
    "___"
   ]
  },
  {
   "cell_type": "markdown",
   "metadata": {},
   "source": [
    "## TÍTULO DO SEU PROJETO"
   ]
  },
  {
   "cell_type": "markdown",
   "metadata": {},
   "source": [
    "___\n",
    "## Introdução\n",
    "\n",
    "Descreva aqui o que pretende analisar!\n",
    "\n",
    "Capriche no português!! \n",
    "Se quiser pode utilizar pesquisas semelhantes publicadas em sites confiáveis!!\n"
   ]
  },
  {
   "cell_type": "markdown",
   "metadata": {},
   "source": [
    "___\n",
    "## Análise e Resultados"
   ]
  },
  {
   "cell_type": "markdown",
   "metadata": {},
   "source": [
    "Pretendo analisar a diferença entre a vida no campo e a urbana como dado principal de análise sendo a segurança alimentar. Utilizando diferenciação entre as urbanizações e campo.\n",
    "\n",
    "Analisando também em quais estados as pessoas estudadas se encontram.\n",
    "\n",
    "Se existe diferença na quantidade, no intervalo entre a alimentação e consequentemente a saúde.\n",
    "\n",
    "GitHub:\n",
    "\n",
    "github.com/joaopmjm/CD"
   ]
  },
  {
   "cell_type": "markdown",
   "metadata": {},
   "source": [
    "Colunas que irei usar:\n",
    "UF - definir região do cidadão\n",
    "V4623 - Definição se tem ou não segurança alimentar\n",
    "V4624 - Abastecimento de água"
   ]
  },
  {
   "cell_type": "code",
   "execution_count": null,
   "metadata": {
    "collapsed": true
   },
   "outputs": [],
   "source": [
    "%matplotlib inline\n",
    "import pandas as pd\n",
    "import matplotlib.pyplot as plt\n",
    "import numpy as np\n",
    "import os"
   ]
  },
  {
   "cell_type": "code",
   "execution_count": null,
   "metadata": {
    "collapsed": false
   },
   "outputs": [],
   "source": [
    "print('Esperamos trabalhar no diretório')\n",
    "print(os.getcwd())"
   ]
  },
  {
   "cell_type": "code",
   "execution_count": null,
   "metadata": {
    "collapsed": false
   },
   "outputs": [],
   "source": [
    "#Se usar o arquivo compactado como está no dropbox púbico\n",
    "planilha2009 = pd.read_csv('DOM2009csv.zip', compression='zip', header=0, sep=',', quotechar='\"')\n",
    "print(planilha2009)"
   ]
  },
  {
   "cell_type": "code",
   "execution_count": null,
   "metadata": {
    "collapsed": false
   },
   "outputs": [],
   "source": [
    "defe = pd.DataFrame()\n",
    "defe['medo alimentar'] = planilha2009.V2103\n",
    "defe['UF'] = planilha2009[planilha2009.UF>2].UF\n",
    "defe['sem dinheiro'] = planilha2009.V2107\n",
    "defe['deficiência alimentar'] = planilha2009[planilha2009.V2109==1].V2109\n",
    "defe['tipo residencial'] = planilha2009.V4105\n",
    "\n",
    "\n",
    "plt.subplot(151)\n",
    "defe['medo alimentar'].plot(kind='bar', color=('red','blue'), legend=False)\n",
    "plt.subplot(153)\n",
    "defe['sem dinheiro'].plot(kind='bar', color=('red','blue'), legend = False)\n",
    "\n",
    "cruz = defe['medo alimentar'] + defe['sem dinheiro']\n",
    "plt.subplot(155)\n",
    "cruz.plot(kind='bar',color=('red','blue'), legend = False)"
   ]
  },
  {
   "cell_type": "markdown",
   "metadata": {},
   "source": [
    "___\n",
    "## Conclusão "
   ]
  },
  {
   "cell_type": "markdown",
   "metadata": {
    "collapsed": true
   },
   "source": [
    "Descreva aqui suas conclusões!"
   ]
  },
  {
   "cell_type": "code",
   "execution_count": null,
   "metadata": {
    "collapsed": false
   },
   "outputs": [],
   "source": [
    "defe"
   ]
  }
 ],
 "metadata": {
  "anaconda-cloud": {},
  "kernelspec": {
   "display_name": "Python 3",
   "language": "python",
   "name": "python3"
  },
  "language_info": {
   "codemirror_mode": {
    "name": "ipython",
    "version": 3
   },
   "file_extension": ".py",
   "mimetype": "text/x-python",
   "name": "python",
   "nbconvert_exporter": "python",
   "pygments_lexer": "ipython3",
   "version": "3.6.0"
  }
 },
 "nbformat": 4,
 "nbformat_minor": 1
}
